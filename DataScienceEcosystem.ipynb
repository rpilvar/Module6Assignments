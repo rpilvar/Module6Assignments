{
 "cells": [
  {
   "cell_type": "markdown",
   "id": "53e61ed9",
   "metadata": {},
   "source": [
    "## **Author:** ##\n",
    "Rahman Pilvar"
   ]
  },
  {
   "cell_type": "markdown",
   "id": "a6709e7d",
   "metadata": {},
   "source": [
    "# Data Science Tools and Ecosystem\n",
    "In this notebook, data science tools and ecosystem are summarized\n",
    "\n",
    "### **Objectives**\n",
    "\n",
    "- obain an understanding about different fields of data science \n",
    "- learn about familiar tools for data science\n",
    "- learn the most important methodologies for data science\n",
    "- complete several data science projects"
   ]
  },
  {
   "cell_type": "code",
   "execution_count": 1,
   "id": "6c5007b5",
   "metadata": {},
   "outputs": [
    {
     "data": {
      "text/plain": [
       "18"
      ]
     },
     "execution_count": 1,
     "metadata": {},
     "output_type": "execute_result"
    }
   ],
   "source": [
    "9+9"
   ]
  },
  {
   "cell_type": "code",
   "execution_count": 8,
   "id": "8c87bf95",
   "metadata": {},
   "outputs": [
    {
     "data": {
      "text/plain": [
       "9290"
      ]
     },
     "execution_count": 8,
     "metadata": {},
     "output_type": "execute_result"
    }
   ],
   "source": [
    "2*(65**2)+35*24"
   ]
  },
  {
   "cell_type": "code",
   "execution_count": 7,
   "id": "86d22bff",
   "metadata": {},
   "outputs": [
    {
     "data": {
      "text/plain": [
       "13827.12"
      ]
     },
     "execution_count": 7,
     "metadata": {},
     "output_type": "execute_result"
    }
   ],
   "source": [
    "78 / 25 + 24**3"
   ]
  },
  {
   "cell_type": "code",
   "execution_count": 9,
   "id": "29077cf6",
   "metadata": {},
   "outputs": [
    {
     "data": {
      "text/plain": [
       "17"
      ]
     },
     "execution_count": 9,
     "metadata": {},
     "output_type": "execute_result"
    }
   ],
   "source": [
    "# This a simple arithmetic expression to mutiply then add integers\n",
    "(3*4)+5"
   ]
  },
  {
   "cell_type": "code",
   "execution_count": 10,
   "id": "dfd4dd98",
   "metadata": {},
   "outputs": [
    {
     "data": {
      "text/plain": [
       "3.3333333333333335"
      ]
     },
     "execution_count": 10,
     "metadata": {},
     "output_type": "execute_result"
    }
   ],
   "source": [
    "# convert minutes to hours\n",
    "200/60\n"
   ]
  },
  {
   "cell_type": "markdown",
   "id": "1781d2b0-07a5-4664-b75d-646130cff01a",
   "metadata": {
    "tags": []
   },
   "source": [
    "#### Some of the popular languages that Data Scientists use are: ####\n",
    "1. Python\n",
    "2. R\n",
    "3. Julia"
   ]
  },
  {
   "cell_type": "markdown",
   "id": "181129ba-6bf8-4d51-997c-90adeb32c356",
   "metadata": {},
   "source": [
    "##### Some of the commonly used libraries used by Data Scients include: #####\n",
    "1. NumPy: Fundamental package for numerical computing with Python. \n",
    "2. Pandas: Data manipulation and analysis library. \n",
    "3. Matplotlib: Plotting and visualization library. \n",
    "4. Seaborn: Statistical data visualization based on Matplotlib "
   ]
  },
  {
   "cell_type": "markdown",
   "id": "20640c03-3a8f-4d0e-8c4f-d4384f88a9de",
   "metadata": {},
   "source": [
    "| Data Science Tools     |  \n",
    "|----------| \n",
    "| Jupyter Notebook    | \n",
    "| RStudio      |  \n",
    "| ApacheSpark  |  "
   ]
  },
  {
   "cell_type": "code",
   "execution_count": null,
   "id": "a716ad07-ddb2-4f4b-8df7-ad4c4e24a43e",
   "metadata": {},
   "outputs": [],
   "source": [
    "# Data Science Tools and Ecosystem #"
   ]
  },
  {
   "cell_type": "markdown",
   "id": "8294c33b",
   "metadata": {},
   "source": [
    "In this notebook, Data Science Tools and Ecosystem are summarized."
   ]
  },
  {
   "cell_type": "markdown",
   "id": "f3224c77",
   "metadata": {},
   "source": [
    "##### In this notebook, Data Science Tools and Ecosystem are summarized. ####\n"
   ]
  }
 ],
 "metadata": {
  "kernelspec": {
   "display_name": "Python 3 (ipykernel)",
   "language": "python",
   "name": "python3"
  },
  "language_info": {
   "codemirror_mode": {
    "name": "ipython",
    "version": 3
   },
   "file_extension": ".py",
   "mimetype": "text/x-python",
   "name": "python",
   "nbconvert_exporter": "python",
   "pygments_lexer": "ipython3",
   "version": "3.9.13"
  }
 },
 "nbformat": 4,
 "nbformat_minor": 5
}
