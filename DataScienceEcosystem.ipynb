{
 "cells": [
  {
   "cell_type": "markdown",
   "id": "53e61ed9",
   "metadata": {},
   "source": [
    "## **Author:** ##\n",
    "Rahman Pilvar"
   ]
  },
  {
   "cell_type": "markdown",
   "id": "a6709e7d",
   "metadata": {},
   "source": [
    "# Data Science Tools and Ecosystem\n",
    "In this notebook, data science tools and ecosystem are summarized\n",
    "\n",
    "### **Objectives**\n",
    "\n",
    "- obain an understanding about different fields of data science \n",
    "- learn about familiar tools for data science\n",
    "- learn the most important methodologies for data science\n",
    "- complete several data science projects"
   ]
  },
  {
   "cell_type": "code",
   "execution_count": 10,
   "id": "dfd4dd98",
   "metadata": {},
   "outputs": [
    {
     "data": {
      "text/plain": [
       "3.3333333333333335"
      ]
     },
     "execution_count": 10,
     "metadata": {},
     "output_type": "execute_result"
    }
   ],
   "source": [
    "# convert minutes to hours\n",
    "200/60\n"
   ]
  },
  {
   "cell_type": "code",
   "execution_count": 9,
   "id": "29077cf6",
   "metadata": {},
   "outputs": [
    {
     "data": {
      "text/plain": [
       "17"
      ]
     },
     "execution_count": 9,
     "metadata": {},
     "output_type": "execute_result"
    }
   ],
   "source": [
    "# This a simple arithmetic expression to mutiply then add integers\n",
    "(3*4)+5"
   ]
  },
  {
   "cell_type": "code",
   "execution_count": 1,
   "id": "6c5007b5",
   "metadata": {},
   "outputs": [
    {
     "data": {
      "text/plain": [
       "18"
      ]
     },
     "execution_count": 1,
     "metadata": {},
     "output_type": "execute_result"
    }
   ],
   "source": [
    "9+9"
   ]
  },
  {
   "cell_type": "code",
   "execution_count": 8,
   "id": "8c87bf95",
   "metadata": {},
   "outputs": [
    {
     "data": {
      "text/plain": [
       "9290"
      ]
     },
     "execution_count": 8,
     "metadata": {},
     "output_type": "execute_result"
    }
   ],
   "source": [
    "2*(65**2)+35*24"
   ]
  },
  {
   "cell_type": "code",
   "execution_count": 7,
   "id": "86d22bff",
   "metadata": {},
   "outputs": [
    {
     "data": {
      "text/plain": [
       "13827.12"
      ]
     },
     "execution_count": 7,
     "metadata": {},
     "output_type": "execute_result"
    }
   ],
   "source": [
    "78 / 25 + 24**3"
   ]
  },
  {
   "cell_type": "markdown",
   "id": "47b813a7",
   "metadata": {},
   "source": [
    "# Data Science Tools and Ecosystem #"
   ]
  },
  {
   "cell_type": "markdown",
   "id": "8294c33b",
   "metadata": {},
   "source": [
    "In this notebook, Data Science Tools and Ecosystem are summarized."
   ]
  },
  {
   "cell_type": "markdown",
   "id": "f3224c77",
   "metadata": {},
   "source": [
    "##### In this notebook, Data Science Tools and Ecosystem are summarized. ####\n"
   ]
  }
 ],
 "metadata": {
  "kernelspec": {
   "display_name": "Python 3 (ipykernel)",
   "language": "python",
   "name": "python3"
  },
  "language_info": {
   "codemirror_mode": {
    "name": "ipython",
    "version": 3
   },
   "file_extension": ".py",
   "mimetype": "text/x-python",
   "name": "python",
   "nbconvert_exporter": "python",
   "pygments_lexer": "ipython3",
   "version": "3.9.13"
  }
 },
 "nbformat": 4,
 "nbformat_minor": 5
}
